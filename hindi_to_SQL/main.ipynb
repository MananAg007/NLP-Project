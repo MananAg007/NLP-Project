{
 "cells": [
  {
   "cell_type": "code",
   "execution_count": null,
   "metadata": {},
   "outputs": [],
   "source": [
    "# All installations and checks\n",
    "!export CUDA_VISIBLE_DEVICES=0,1,2,3\n",
    "# !pip3 install transformers"
   ]
  },
  {
   "cell_type": "code",
   "execution_count": null,
   "metadata": {},
   "outputs": [],
   "source": [
    "# All imports\n",
    "import argparse\n",
    "import os\n",
    "import sys\n",
    "import shutil\n",
    "import datetime\n",
    "import torch.utils.data as torch_data\n",
    "from util import *\n",
    "from featurizer import *\n",
    "from base_model import *\n",
    "from torch_model import *\n",
    "from evaluator import *"
   ]
  },
  {
   "cell_type": "code",
   "execution_count": null,
   "metadata": {},
   "outputs": [],
   "source": [
    "# Global initializations and functions\n"
   ]
  },
  {
   "cell_type": "code",
   "execution_count": null,
   "metadata": {},
   "outputs": [],
   "source": [
    "# Create training data (i/o)\n",
    "\n",
    "config = read_conf(\"wikisql_demo.conf\")\n",
    "\n",
    "featurizer = HydraFeaturizer(config)\n",
    "train_data = SQLDataset(config[\"train_data_path\"], config, featurizer, True)\n",
    "train_data_loader = torch_data.DataLoader(train_data, batch_size=int(config[\"batch_size\"]), shuffle=True, pin_memory=True)\n",
    "\n",
    "num_samples = len(train_data)"
   ]
  },
  {
   "cell_type": "code",
   "execution_count": null,
   "metadata": {},
   "outputs": [],
   "source": [
    "# Creating the model and showing number of batches to be processed\n",
    "note = \"\"\n",
    "model_path = \"model--\"+datetime.datetime.now().strftime(\"%Y%m%d_%H%M%S\")\n",
    "config[\"num_train_steps\"] = int(num_samples * int(config[\"epochs\"]) / int(config[\"batch_size\"]))\n",
    "step_per_epoch = num_samples / int(config[\"batch_size\"])\n",
    "print(\"total_steps: {0}, warm_up_steps: {1}\".format(config[\"num_train_steps\"], config[\"num_warmup_steps\"]))\n",
    "\n",
    "model = create_model(config, is_train=True)\n",
    "evaluator = HydraEvaluator(model_path, config, featurizer, model, note)\n"
   ]
  },
  {
   "cell_type": "code",
   "execution_count": null,
   "metadata": {},
   "outputs": [],
   "source": [
    "# Starting training\n",
    "print(\"start training\")\n",
    "print(model_path)\n",
    "loss_avg, step, epoch = 0.0, 0, 0\n",
    "while True:\n",
    "    for batch_id, batch in enumerate(train_data_loader):\n",
    "        print(batch_id)\n",
    "        cur_loss = model.train_on_batch(batch)\n",
    "        loss_avg = (loss_avg * step + cur_loss) / (step + 1)\n",
    "        step += 1\n",
    "        print(\"here1\")\n",
    "        if batch_id % 1 == 0:\n",
    "            print(\"here2\")\n",
    "            currentDT = datetime.datetime.now()\n",
    "            print(\"[{3}] epoch {0}, batch {1}, batch_loss={2:.4f}\".format(epoch, batch_id, cur_loss,\n",
    "                                                                            currentDT.strftime(\"%m-%d %H:%M:%S\")))\n",
    "    model.save(model_path, epoch)\n",
    "    evaluator.eval(epoch)\n",
    "    epoch += 1\n",
    "    if epoch >= int(config[\"epochs\"]):\n",
    "        break\n"
   ]
  },
  {
   "cell_type": "code",
   "execution_count": null,
   "metadata": {},
   "outputs": [],
   "source": [
    "# Predicting SQL output of a single question input\n",
    "config_demo = read_conf(\"wikisql_demo.conf\")\n",
    "featurizer_demo = HydraFeaturizer(config_demo)\n",
    "model_path_demo = \"model--20221123_123520\"\n",
    "epoch_demo = 0\n",
    "model_demo = create_model(config_demo, is_train=True)\n",
    "note = \"_demo\"\n",
    "evaluator_demo = HydraEvaluator(model_path_demo, config_demo, featurizer_demo, model_demo, note)\n",
    "model_demo.load(model_path_demo, epoch_demo)\n",
    "evaluator_demo.eval(epoch_demo)"
   ]
  }
 ],
 "metadata": {
  "interpreter": {
   "hash": "aee8b7b246df8f9039afb4144a1f6fd8d2ca17a180786b69acc140d282b71a49"
  },
  "kernelspec": {
   "display_name": "Python 3.10.4 64-bit",
   "language": "python",
   "name": "python3"
  },
  "language_info": {
   "codemirror_mode": {
    "name": "ipython",
    "version": 3
   },
   "file_extension": ".py",
   "mimetype": "text/x-python",
   "name": "python",
   "nbconvert_exporter": "python",
   "pygments_lexer": "ipython3",
   "version": "3.10.4"
  },
  "orig_nbformat": 4
 },
 "nbformat": 4,
 "nbformat_minor": 2
}
