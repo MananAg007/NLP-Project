{
 "cells": [
  {
   "cell_type": "code",
   "execution_count": null,
   "metadata": {},
   "outputs": [],
   "source": [
    "# All installations and checks\n",
    "!export CUDA_VISIBLE_DEVICES=0,1,2,3\n",
    "!pip3 install transformers"
   ]
  },
  {
   "cell_type": "code",
   "execution_count": null,
   "metadata": {},
   "outputs": [],
   "source": [
    "# All imports\n",
    "import argparse\n",
    "import os\n",
    "import sys\n",
    "import shutil\n",
    "import datetime\n",
    "import torch.utils.data as torch_data\n",
    "from util import *\n",
    "from featurizer import *\n",
    "from base_model import *\n",
    "from torch_model import *\n",
    "from evaluator import *"
   ]
  },
  {
   "cell_type": "code",
   "execution_count": null,
   "metadata": {},
   "outputs": [],
   "source": [
    "# put correct model and epoch number\n",
    "model_path = \"models/hindi_model\"\n",
    "note = \"\"\n",
    "epoch = 4\n",
    "config = read_conf(\"wikisql.conf\")\n",
    "featurizer = HydraFeaturizer(config)\n",
    "model = create_model(config, is_train=False)\n",
    "model.load(model_path, epoch)\n",
    "evaluator = HydraEvaluator(model_path, config, featurizer, model, note)\n",
    "evaluator.eval(epoch)"
   ]
  }
 ],
 "metadata": {
  "language_info": {
   "name": "python"
  },
  "orig_nbformat": 4
 },
 "nbformat": 4,
 "nbformat_minor": 2
}
